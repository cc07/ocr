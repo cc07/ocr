{
 "cells": [
  {
   "cell_type": "code",
   "execution_count": 1,
   "metadata": {},
   "outputs": [],
   "source": [
    "%matplotlib inline\n",
    "\n",
    "import cv2\n",
    "import json\n",
    "import tensorflow as tf\n",
    "import numpy as np\n",
    "import os\n",
    "import sys\n",
    "import re\n",
    "\n",
    "from os import listdir\n",
    "from os.path import isfile, join\n",
    "from matplotlib import pyplot as plt\n",
    "from sklearn.model_selection import train_test_split\n",
    "\n",
    "# base = os.path.dirname(os.path.realpath(.model.path))"
   ]
  },
  {
   "cell_type": "code",
   "execution_count": 2,
   "metadata": {},
   "outputs": [],
   "source": [
    "# labels = json.load(open('../data/label.json', 'r'))\n",
    "# labels = [labels[str(idx)] for idx in labels]"
   ]
  },
  {
   "cell_type": "code",
   "execution_count": 3,
   "metadata": {},
   "outputs": [],
   "source": [
    "img_path = '/var/ds/ocr/data/images'\n",
    "\n",
    "labels = []\n",
    "images = []\n",
    "images_path = []\n",
    "\n",
    "# for idx, label in enumerate(labels):\n",
    "#     img_name = '{}_{}.jpg'.format(idx, label)\n",
    "#     full_img_path = '{}/{}'.format(img_path, img_name)\n",
    "    \n",
    "#     if not os.path.isfile(full_img_path):\n",
    "#         labels[idx] = None\n",
    "#         continue\n",
    "\n",
    "#     images_path.append(full_img_path)\n",
    "\n",
    "for f in listdir(img_path):    \n",
    "    path = join(img_path, f)\n",
    "    \n",
    "    if isfile(path) and 'jpg' in path:\n",
    "        img = cv2.imread(path, cv2.IMREAD_GRAYSCALE)\n",
    "\n",
    "#     print('{}/{}'.format(img_path, img_name))\n",
    "#         img = cv2.imread(join(img_path, f), cv2.IMREAD_GRAYSCALE)\n",
    "#         plt.imshow(img, cmap='gray', vmin=0, vmax=255)\n",
    "\n",
    "        img = np.asarray(img).astype(np.float32) / 255.\n",
    "        img = img - 0.5\n",
    "        images.append(img)\n",
    "\n",
    "        label = re.match(r'.*[_](.*)\\.jpg', f).group(1)\n",
    "        labels.append(label)"
   ]
  },
  {
   "cell_type": "code",
   "execution_count": 4,
   "metadata": {},
   "outputs": [
    {
     "name": "stdout",
     "output_type": "stream",
     "text": [
      "945059691215\n"
     ]
    },
    {
     "data": {
      "text/plain": [
       "<matplotlib.image.AxesImage at 0x7f5c6e59f358>"
      ]
     },
     "execution_count": 4,
     "metadata": {},
     "output_type": "execute_result"
    },
    {
     "data": {
      "image/png": "[encoded data removed]",
      "text/plain": [
       "<Figure size 432x288 with 1 Axes>"
      ]
     },
     "metadata": {},
     "output_type": "display_data"
    }
   ],
   "source": [
    "print(labels[500])\n",
    "plt.imshow((images[500] + 0.5) * 255, cmap='gray', vmin=0, vmax=255)"
   ]
  },
  {
   "cell_type": "code",
   "execution_count": 5,
   "metadata": {},
   "outputs": [],
   "source": [
    "# images = [(img / 255) - 0.5 for img in images]"
   ]
  },
  {
   "cell_type": "code",
   "execution_count": 6,
   "metadata": {},
   "outputs": [],
   "source": [
    "# labels = [label for label in labels if label is not None]"
   ]
  },
  {
   "cell_type": "code",
   "execution_count": 7,
   "metadata": {},
   "outputs": [],
   "source": [
    "def create_sparse(batch_size, images, labels, dtype=np.int64):\n",
    "    indices = []\n",
    "    values = []\n",
    "    \n",
    "    sample_index = np.random.choice(len(images) - 1, size=batch_size)\n",
    "    sample_images = []\n",
    "    \n",
    "    x_max = 0\n",
    "    y_max = 0\n",
    "\n",
    "    for key, index in zip(sample_index, range(batch_size)):\n",
    "        sample = labels[key]\n",
    "        length = len(sample)\n",
    "        label = sample\n",
    "        \n",
    "        img = images[key]\n",
    "#         plt.imshow(img, cmap='gray', vmin=0, vmax=255)\n",
    "        x_max = max(x_max, img.shape[0])\n",
    "        y_max = max(y_max, img.shape[1])\n",
    "\n",
    "#         img = img / 255\n",
    "        sample_images.append(img)\n",
    "\n",
    "        for number, number_index in zip(label, range(length)):\n",
    "            indices.append((index, number_index))\n",
    "#             print(number, ord(str(number)), FIRST_INDEX, ord(str(number)) - FIRST_INDEX)\n",
    "            values.append(ord(str(number)) - FIRST_INDEX)\n",
    "\n",
    "    indices = np.array(indices, dtype=np.int64)\n",
    "    values = np.array(values, dtype=dtype)\n",
    "    shape = np.array([batch_size, np.asarray(indices).max(0)[1] + 1], dtype=np.int64)\n",
    "\n",
    "    return indices, values, shape, sample_images, x_max, y_max\n",
    "\n",
    "# create_sparse(n_batch_size, images, labels)"
   ]
  },
  {
   "cell_type": "code",
   "execution_count": 8,
   "metadata": {},
   "outputs": [],
   "source": [
    "def add_padding_to_images(x_max, y_max, images):\n",
    "\n",
    "    output = []\n",
    "    for img in images:\n",
    "        left_pad = int((x_max - img.shape[0]) / 2)\n",
    "        right_pad = x_max - img.shape[0] - int((x_max - img.shape[0]) / 2)\n",
    "        top_pad = int((y_max - img.shape[1]) / 2)\n",
    "        bottom_pad = y_max - img.shape[1] - int((y_max - img.shape[1]) / 2)\n",
    "\n",
    "        img = np.pad(img, \n",
    "                     pad_width=((left_pad, right_pad), \n",
    "                                (top_pad, bottom_pad)), \n",
    "                     mode='constant', \n",
    "                     constant_values=0)\n",
    "        \n",
    "        img = np.transpose(img.reshape((x_max, y_max)))\n",
    "        output.append(img)\n",
    "        \n",
    "    return np.array(output)"
   ]
  },
  {
   "cell_type": "code",
   "execution_count": 9,
   "metadata": {},
   "outputs": [],
   "source": [
    "FIRST_INDEX = ord(' ')\n",
    "SPACE_TOKEN = '<space>'\n",
    "SPACE_INDEX = 0\n",
    "\n",
    "n_batch_size = 32\n",
    "n_features = 32\n",
    "n_rnn_layers = 1\n",
    "n_filter = 64\n",
    "n_hidden = 512\n",
    "# n_classes = ord('z') - ord('a') + 10 + 1 + 1 + 1\n",
    "n_classes = ord('~') - FIRST_INDEX + 1\n",
    "\n",
    "n_epochs = 20000\n",
    "\n",
    "learning_rate = 0.005"
   ]
  },
  {
   "cell_type": "code",
   "execution_count": 10,
   "metadata": {},
   "outputs": [],
   "source": [
    "n_test_size = 0.3\n",
    "n_test_index = int(len(images) * n_test_size)\n",
    "\n",
    "train_images = images[:n_test_index]\n",
    "test_images = images[n_test_index:]\n",
    "\n",
    "train_labels = labels[:n_test_index]\n",
    "test_labels = labels[n_test_index:]"
   ]
  },
  {
   "cell_type": "code",
   "execution_count": 11,
   "metadata": {},
   "outputs": [],
   "source": [
    "tf.reset_default_graph()\n",
    "graph = tf.Graph()\n",
    "\n",
    "with graph.as_default():\n",
    "    inputs = tf.placeholder(tf.float32, [None, None, n_features])\n",
    "    targets = tf.sparse_placeholder(tf.int32)\n",
    "    seq_len = tf.placeholder(tf.int32, None)\n",
    "#     time_len = tf.placeholder(tf.int32, [None])\n",
    "    \n",
    "    w_init = tf.contrib.layers.variance_scaling_initializer()\n",
    "    b_init = tf.constant_initializer(0.1)\n",
    "    \n",
    "    shape = tf.shape(inputs)\n",
    "    \n",
    "    x_expanded = tf.expand_dims(inputs, -1)\n",
    "    \n",
    "    with tf.variable_scope('conv1'):\n",
    "        conv1 = tf.layers.conv2d(\n",
    "            x_expanded,\n",
    "            n_filter,\n",
    "            kernel_size=(3, 3),\n",
    "            padding='SAME',\n",
    "            kernel_initializer=w_init,\n",
    "            bias_initializer=b_init,\n",
    "            activation=tf.nn.elu,\n",
    "        )\n",
    "        conv1 = tf.layers.max_pooling2d(\n",
    "            conv1,\n",
    "            (2, 2),            \n",
    "            (2, 2),\n",
    "            padding='SAME',\n",
    "        )\n",
    "        \n",
    "    with tf.variable_scope('conv2'):\n",
    "        conv2 = tf.layers.conv2d(\n",
    "            conv1,\n",
    "            n_filter * 2,\n",
    "            kernel_size=(3, 3),\n",
    "            padding='SAME',\n",
    "            kernel_initializer=w_init,\n",
    "            bias_initializer=b_init,\n",
    "            activation=tf.nn.elu,\n",
    "        )\n",
    "        conv2 = tf.layers.max_pooling2d(\n",
    "            conv2,\n",
    "            (2, 2),            \n",
    "            (2, 2),\n",
    "            padding='SAME',\n",
    "        )\n",
    "        \n",
    "    with tf.variable_scope('conv3'):\n",
    "        conv3 = tf.layers.conv2d(\n",
    "            conv2,\n",
    "            n_filter * 3,\n",
    "            kernel_size=(3, 3),\n",
    "            padding='SAME',\n",
    "            kernel_initializer=w_init,\n",
    "            bias_initializer=b_init,\n",
    "            activation=tf.nn.elu,\n",
    "        )\n",
    "        conv3 = tf.layers.max_pooling2d(\n",
    "            conv3,\n",
    "            (2, 2),            \n",
    "            (2, 2),\n",
    "            padding='SAME',\n",
    "        )        \n",
    "        \n",
    "    _, feature_w, feature_h, _ = conv3.get_shape().as_list()\n",
    "    conv3 = tf.reshape(conv3, [shape[0], -1, feature_h * n_filter * 3])\n",
    "\n",
    "    seq_len = tf.fill([shape[0]], shape[1] // 8)\n",
    "#     seq_len = tf.fill([shape[0]], shape[1])\n",
    "    \n",
    "#     cells = []\n",
    "#     for _ in range(n_rnn_layers):\n",
    "#         cell = tf.contrib.rnn.LSTMCell(n_hidden, initializer=tf.orthogonal_initializer())\n",
    "#         cells.append(cell)\n",
    "        \n",
    "#     stack = tf.contrib.rnn.MultiRNNCell(cells)\n",
    "    \n",
    "    cell_fw = tf.contrib.rnn.LSTMCell(n_hidden)\n",
    "    cell_bw = tf.contrib.rnn.LSTMCell(n_hidden)\n",
    "\n",
    "#     outputs, _ = tf.nn.dynamic_rnn(stack, inputs, seq_len, dtype=tf.float32)\n",
    "    outputs, _ = tf.nn.bidirectional_dynamic_rnn(cell_fw, cell_bw, conv3, seq_len, dtype=tf.float32)\n",
    "    outputs = tf.concat(outputs, 2)\n",
    "    \n",
    "    outputs = tf.reshape(outputs, [-1, n_hidden * 2])\n",
    "    \n",
    "    W = tf.Variable(tf.truncated_normal([n_hidden * 2,\n",
    "                                         n_classes],\n",
    "                                        stddev=0.1))\n",
    "    b = tf.Variable(tf.constant(0., shape=[n_classes]))\n",
    "    \n",
    "    logits = tf.matmul(outputs, W) + b\n",
    "    logits = tf.reshape(logits, [shape[0], -1, n_classes])\n",
    "    logits = tf.transpose(logits, (1, 0, 2))\n",
    "    \n",
    "    loss = tf.nn.ctc_loss(labels=targets, inputs=logits, sequence_length=seq_len)\n",
    "    cost = tf.reduce_mean(loss)\n",
    "\n",
    "    optimizer = tf.train.AdamOptimizer(learning_rate).minimize(cost)\n",
    "    \n",
    "#     decoded, log_prob = tf.nn.ctc_greedy_decoder(logits, seq_len)\n",
    "    decoded, log_prob = tf.nn.ctc_beam_search_decoder(logits, seq_len, merge_repeated=False)\n",
    "    dense_decoded = tf.sparse_tensor_to_dense(decoded[0], default_value=-1)\n",
    "    \n",
    "    ler = tf.reduce_mean(tf.edit_distance(tf.cast(decoded[0], tf.int32),\n",
    "                                          targets))\n",
    "    \n",
    "    sess = tf.Session(graph=graph)\n",
    "    sess.run(tf.global_variables_initializer())"
   ]
  },
  {
   "cell_type": "code",
   "execution_count": 24,
   "metadata": {},
   "outputs": [
    {
     "name": "stdout",
     "output_type": "stream",
     "text": [
      "Epoch 0, train_cost: 0.263, train_ler: 0.167, val_cost: 0.000, val_ler: 0.000\n"
     ]
    }
   ],
   "source": [
    "for epoch in range(1):\n",
    "    \n",
    "    train_cost = train_ler = 0\n",
    "\n",
    "    indices, values, shape, sample_images, x_max, y_max = create_sparse(n_batch_size, train_images, train_labels)\n",
    "    sample_images = add_padding_to_images(x_max, y_max, sample_images)\n",
    "\n",
    "    train_targets = tf.SparseTensorValue(indices=indices, values=values, dense_shape=shape)\n",
    "\n",
    "    feed = {\n",
    "        inputs: sample_images,\n",
    "        targets: train_targets,\n",
    "    }\n",
    "\n",
    "    batch_cost, batch_ler, _ = sess.run([cost, ler, optimizer], feed_dict=feed)\n",
    "    train_cost += batch_cost\n",
    "    train_ler += batch_ler * n_batch_size\n",
    "\n",
    "    log = 'Epoch {}, train_cost: {:.3f}, train_ler: {:.3f}, val_cost: {:.3f}, val_ler: {:.3f}'\n",
    "    print(log.format(epoch, train_cost, train_ler, 0, 0))\n",
    "\n",
    "decoded_values = sess.run(dense_decoded, feed_dict=feed)"
   ]
  },
  {
   "cell_type": "code",
   "execution_count": 21,
   "metadata": {},
   "outputs": [],
   "source": [
    "with graph.as_default():\n",
    "    params = tf.get_collection(tf.GraphKeys.GLOBAL_VARIABLES)\n",
    "    \n",
    "    saver = tf.train.Saver(params)\n",
    "    save_path = saver.save(sess, '../data/sess/model.ckpt')"
   ]
  },
  {
   "cell_type": "code",
   "execution_count": null,
   "metadata": {},
   "outputs": [],
   "source": [
    "# saver.restore(sess, \"/tmp/model.ckpt\")"
   ]
  },
  {
   "cell_type": "code",
   "execution_count": 25,
   "metadata": {},
   "outputs": [
    {
     "data": {
      "text/plain": [
       "<matplotlib.image.AxesImage at 0x7f5c5419dac8>"
      ]
     },
     "execution_count": 25,
     "metadata": {},
     "output_type": "execute_result"
    },
    {
     "data": {
      "image/png": "[encoded data removed]",
      "text/plain": [
       "<Figure size 432x288 with 1 Axes>"
      ]
     },
     "metadata": {},
     "output_type": "display_data"
    }
   ],
   "source": [
    "# sample_image = (sample_images + 0.5) * 255\n",
    "plt.imshow((np.transpose(sample_images[0] + 0.5) * 255), cmap='gray', vmin=0, vmax=255)"
   ]
  },
  {
   "cell_type": "code",
   "execution_count": 29,
   "metadata": {},
   "outputs": [
    {
     "data": {
      "text/plain": [
       "'807511907'"
      ]
     },
     "execution_count": 29,
     "metadata": {},
     "output_type": "execute_result"
    }
   ],
   "source": [
    "str_decoded[0]"
   ]
  },
  {
   "cell_type": "code",
   "execution_count": 30,
   "metadata": {},
   "outputs": [
    {
     "data": {
      "text/plain": [
       "array([[24, 16, 23, 21, 17, 17, 25, 16, 23, -1, -1, -1, -1, -1, -1, -1],\n",
       "       [21, 19, 17, 16, 20, 19, 21, 25, 23, 21, 19, 20, -1, -1, -1, -1],\n",
       "       [52, 19, 25, 19, 24, 16, 17, 17, 21, 16, 17, -1, -1, -1, -1, -1],\n",
       "       [16, 20, 21, 19, 21, 17, -1, -1, -1, -1, -1, -1, -1, -1, -1, -1],\n",
       "       [35, 17, 19, 17, 21, 16, 21, 17, 19, 25, 17, -1, -1, -1, -1, -1],\n",
       "       [17, 25, 20, 21, 19, 21, 19, 21, 21, 20, -1, -1, -1, -1, -1, -1],\n",
       "       [21, 17, 17, 23, 16, 21, 21, 20, -1, -1, -1, -1, -1, -1, -1, -1],\n",
       "       [24, 24, 20, 19, 16, 20, 21, 17, 21, 25, 19, 25, 17, 16, -1, -1],\n",
       "       [25, 16, 22, 17, 16, 23, 17, 21, 17, 21, 16, 21, -1, -1, -1, -1],\n",
       "       [52, 19, 25, 19, 24, 16, 17, 17, 21, 16, 17, -1, -1, -1, -1, -1],\n",
       "       [17, 25, 16, 17, 21, 17, 17, 17, -1, -1, -1, -1, -1, -1, -1, -1],\n",
       "       [24, 17, 17, 22, 13, 20, 24, 17, 19, 21, -1, -1, -1, -1, -1, -1],\n",
       "       [17, 19, 19, 16, 17, 21, 21, 17, 17, 17, 24, -1, -1, -1, -1, -1],\n",
       "       [20, 24, 17, 20, 21, 25, 16, 17, 21, 20, -1, -1, -1, -1, -1, -1],\n",
       "       [20, 19, 25, 18, 18, 17, 21, 17, 21, 16, 21, -1, -1, -1, -1, -1],\n",
       "       [48, 17, 22, 17, 25, 20, 21, -1, -1, -1, -1, -1, -1, -1, -1, -1],\n",
       "       [24, 21, 17, 17, 21, 21, 25, 16, 23, -1, -1, -1, -1, -1, -1, -1],\n",
       "       [19, 16, 22, 17, 17, 19, 17, 16, 21, -1, -1, -1, -1, -1, -1, -1],\n",
       "       [36, 21, 17, 16, 19, 16, 16, 16, -1, -1, -1, -1, -1, -1, -1, -1],\n",
       "       [16, 25, 20, 20, 16, -1, -1, -1, -1, -1, -1, -1, -1, -1, -1, -1],\n",
       "       [18, 22, 25, 19, 16, 20, 25, 17, 23, 21, 19, 25, 16, 23, -1, -1],\n",
       "       [17, 22, 21, 16, 17, 17, 21, 25, 16, -1, -1, -1, -1, -1, -1, -1],\n",
       "       [22, 19, 21, 19, 16, 17, 21, -1, -1, -1, -1, -1, -1, -1, -1, -1],\n",
       "       [22, 25, 18, 21, 19, 16, 22, 20, -1, -1, -1, -1, -1, -1, -1, -1],\n",
       "       [33, 16, 23, 21, 16, 23, 19, 22, 18, 21, 19, -1, -1, -1, -1, -1],\n",
       "       [17, 25, 19, 19, 16, 19, 24, 17, 19, 17, 19, 21, 21, 19, -1, -1],\n",
       "       [22, 16, 17, 19, 21, 17, 18, 17, 21, -1, -1, -1, -1, -1, -1, -1],\n",
       "       [45, 25, 19, 17, 24, 18, 21, 19, 25, 20, 17, -1, -1, -1, -1, -1],\n",
       "       [16, 16, 16, 20, 21, 22, 16, 19, 21, 20, 21, 17, 21, 25, 16, 16],\n",
       "       [17, 19, 19, 25, 23, 17, 17, -1, -1, -1, -1, -1, -1, -1, -1, -1],\n",
       "       [19, 17, 23, 25, 16, 21, 20, 20, -1, -1, -1, -1, -1, -1, -1, -1],\n",
       "       [19, 21, 13, 19, 21, 20, 21, 19, 25, 19, 21, 25, 16, 16, -1, -1]])"
      ]
     },
     "execution_count": 30,
     "metadata": {},
     "output_type": "execute_result"
    }
   ],
   "source": [
    "decoded_values"
   ]
  },
  {
   "cell_type": "code",
   "execution_count": 27,
   "metadata": {},
   "outputs": [],
   "source": [
    "str_decoded = []\n",
    "\n",
    "for x in np.asarray(decoded_values):\n",
    "    str_decoded.append(''.join([chr(val + FIRST_INDEX) for val in x if val != -1]))"
   ]
  },
  {
   "cell_type": "code",
   "execution_count": 28,
   "metadata": {},
   "outputs": [
    {
     "data": {
      "text/plain": [
       "['807511907',\n",
       " '531043597534',\n",
       " 'T3938011501',\n",
       " '045351',\n",
       " 'C1315051391',\n",
       " '1945353554',\n",
       " '51170554',\n",
       " '88430451593910',\n",
       " '906107151505',\n",
       " 'T3938011501',\n",
       " '19015111',\n",
       " '8116-48135',\n",
       " '13301551118',\n",
       " '4814590154',\n",
       " '43922151505',\n",
       " 'P161945',\n",
       " '851155907',\n",
       " '306113105',\n",
       " 'D5103000',\n",
       " '09440',\n",
       " '26930491753907',\n",
       " '165011590',\n",
       " '6353015',\n",
       " '69253064',\n",
       " 'A0750736253',\n",
       " '19330381313553',\n",
       " '601351215',\n",
       " 'M9318253941',\n",
       " '0004560354515900',\n",
       " '1339711',\n",
       " '31790544',\n",
       " '35-35453935900']"
      ]
     },
     "execution_count": 28,
     "metadata": {},
     "output_type": "execute_result"
    }
   ],
   "source": [
    "str_decoded"
   ]
  },
  {
   "cell_type": "code",
   "execution_count": 85,
   "metadata": {},
   "outputs": [],
   "source": [
    "str_original = ''.join([chr(x + FIRST_INDEX) for x in values])"
   ]
  },
  {
   "cell_type": "code",
   "execution_count": 86,
   "metadata": {},
   "outputs": [
    {
     "data": {
      "text/plain": [
       "'07530036113188511-3063854B63915551115-8160590719453535544623159001130110678907469531454P115810410753300450454694879746611-45350758P9051191659454191813041556353104359753401331554M06115904814590154190595454616955411639413811750150652692219076915890544546035-7115803021504955456553961604455554M1330451388111151'"
      ]
     },
     "execution_count": 86,
     "metadata": {},
     "output_type": "execute_result"
    }
   ],
   "source": [
    "str_original"
   ]
  },
  {
   "cell_type": "code",
   "execution_count": 46,
   "metadata": {},
   "outputs": [],
   "source": [
    "img = cv2.imread('../data/samples/test.jpg', cv2.IMREAD_GRAYSCALE)"
   ]
  },
  {
   "cell_type": "code",
   "execution_count": 47,
   "metadata": {},
   "outputs": [
    {
     "data": {
      "text/plain": [
       "<matplotlib.image.AxesImage at 0x7f5c54789fd0>"
      ]
     },
     "execution_count": 47,
     "metadata": {},
     "output_type": "execute_result"
    },
    {
     "data": {
      "image/png": "[encoded data removed]",
      "text/plain": [
       "<Figure size 432x288 with 1 Axes>"
      ]
     },
     "metadata": {},
     "output_type": "display_data"
    }
   ],
   "source": [
    "plt.imshow(img, cmap='gray', vmin=0, vmax=255)"
   ]
  },
  {
   "cell_type": "code",
   "execution_count": 48,
   "metadata": {},
   "outputs": [],
   "source": [
    "img_shape = img.shape\n",
    "img = (img / 255) - 0.5\n",
    "\n",
    "ratio = img_shape[0] / 32\n",
    "img = img.reshape(int(img_shape[1] * ratio), 32)"
   ]
  },
  {
   "cell_type": "code",
   "execution_count": 49,
   "metadata": {},
   "outputs": [],
   "source": [
    "feed = {\n",
    "    inputs: np.expand_dims(img, 0),\n",
    "}\n",
    "\n",
    "decoded_values = sess.run(dense_decoded, feed_dict=feed)"
   ]
  },
  {
   "cell_type": "code",
   "execution_count": 52,
   "metadata": {},
   "outputs": [
    {
     "data": {
      "text/plain": [
       "['7B8B8B8B8B8B8B8B8B8B8B8B8B8B8B8B8B8B8B8B868B8B2B2B8B2BBBBB2BBBBBBB8B8B8B8B8B8B8B8B8B8B8']"
      ]
     },
     "execution_count": 52,
     "metadata": {},
     "output_type": "execute_result"
    }
   ],
   "source": [
    "str_decoded = []\n",
    "\n",
    "for x in np.asarray(decoded_values):\n",
    "    str_decoded.append(''.join([chr(val + FIRST_INDEX) for val in x if val != -1]))\n",
    "    \n",
    "str_decoded"
   ]
  },
  {
   "cell_type": "code",
   "execution_count": null,
   "metadata": {},
   "outputs": [],
   "source": []
  }
 ],
 "metadata": {
  "kernelspec": {
   "display_name": "Python 3",
   "language": "python",
   "name": "python3"
  },
  "language_info": {
   "codemirror_mode": {
    "name": "ipython",
    "version": 3
   },
   "file_extension": ".py",
   "mimetype": "text/x-python",
   "name": "python",
   "nbconvert_exporter": "python",
   "pygments_lexer": "ipython3",
   "version": "3.6.4"
  }
 },
 "nbformat": 4,
 "nbformat_minor": 2
}
