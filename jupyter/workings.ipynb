{
 "cells": [
  {
   "cell_type": "code",
   "execution_count": 241,
   "metadata": {},
   "outputs": [],
   "source": [
    "%matplotlib inline\n",
    "\n",
    "import cv2\n",
    "import json\n",
    "import tensorflow as tf\n",
    "import numpy as np\n",
    "\n",
    "from os import listdir\n",
    "from os.path import isfile, join\n",
    "from matplotlib import pyplot as plt\n",
    "from sklearn.model_selection import train_test_split"
   ]
  },
  {
   "cell_type": "code",
   "execution_count": 257,
   "metadata": {},
   "outputs": [],
   "source": [
    "labels = json.load(open('../data/label.json', 'r'))\n",
    "labels = [labels[str(idx)] for idx in labels]"
   ]
  },
  {
   "cell_type": "code",
   "execution_count": 231,
   "metadata": {},
   "outputs": [],
   "source": [
    "img_path = '../data/images'\n",
    "\n",
    "images = []\n",
    "# for f in listdir(img_path):\n",
    "#     if isfile(join(img_path, f)):\n",
    "for f in labels:\n",
    "    img_name = labels[str(f)]['label']\n",
    "    img = cv2.imread('{}/{}_{}.jpg'.format(img_path, f, img_name), cv2.IMREAD_GRAYSCALE)\n",
    "#         img = cv2.imread(join(img_path, f), cv2.IMREAD_GRAYSCALE)\n",
    "#         plt.imshow(img, cmap='gray', vmin=0, vmax=255)\n",
    "    images.append(img)"
   ]
  },
  {
   "cell_type": "code",
   "execution_count": 467,
   "metadata": {},
   "outputs": [],
   "source": [
    "def create_sparse(batch_size, images, labels, dtype=np.int64):\n",
    "    indices = []\n",
    "    values = []\n",
    "#     seq_length = []\n",
    "    \n",
    "    sample_index = np.random.choice(len(images) - 1, size=batch_size)\n",
    "    sample_images = []\n",
    "    \n",
    "    x_max = 0\n",
    "    y_max = 0\n",
    "\n",
    "    for key, index in zip(sample_index, range(batch_size)):\n",
    "        sample = labels[key]\n",
    "        length = sample['length']\n",
    "        label = sample['label']\n",
    "        \n",
    "        img = images[key]\n",
    "#         plt.imshow(img, cmap='gray', vmin=0, vmax=255)\n",
    "        x_max = max(x_max, img.shape[0])\n",
    "        y_max = max(y_max, img.shape[1])\n",
    "\n",
    "#         seq_length.append(length)\n",
    "        sample_images.append(img)\n",
    "\n",
    "        for number, number_index in zip(label, range(length)):\n",
    "            indices.append((index, number_index))\n",
    "            values.append(ord(str(number)))\n",
    "\n",
    "    indices = np.array(indices, dtype=np.int64)\n",
    "    values = np.array(values, dtype=dtype)\n",
    "    shape = np.array([batch_size, np.asarray(indices).max(0)[1] + 1], dtype=np.int64)\n",
    "    seq_length = np.ones(batch_size) * np.asarray(indices).max(0)[1] + 1\n",
    "#     shape = np.array([batch_size, seq_length], np.int64)\n",
    "\n",
    "    return indices, values, shape, sample_images, seq_length, x_max, y_max\n",
    "\n",
    "# create_sparse(n_batch_size, images, labels)"
   ]
  },
  {
   "cell_type": "code",
   "execution_count": 477,
   "metadata": {},
   "outputs": [],
   "source": [
    "def add_padding_to_images(x_max, y_max, images):\n",
    "\n",
    "    output = []\n",
    "    for img in images:\n",
    "        left_pad = int((x_max - img.shape[0]) / 2)\n",
    "        right_pad = x_max - img.shape[0] - int((x_max - img.shape[0]) / 2)\n",
    "        top_pad = int((y_max - img.shape[1]) / 2)\n",
    "        bottom_pad = y_max - img.shape[1] - int((y_max - img.shape[1]) / 2)\n",
    "\n",
    "        img = np.pad(img, \n",
    "                     pad_width=((left_pad, right_pad), \n",
    "                                (top_pad, bottom_pad)), \n",
    "                     mode='constant', \n",
    "                     constant_values=0)\n",
    "        \n",
    "        img = np.transpose(img.reshape((x_max, y_max)))\n",
    "        output.append(img)\n",
    "        \n",
    "    return np.array(output)"
   ]
  },
  {
   "cell_type": "code",
   "execution_count": 489,
   "metadata": {},
   "outputs": [
    {
     "data": {
      "text/plain": [
       "<matplotlib.image.AxesImage at 0x1299a7da0>"
      ]
     },
     "execution_count": 489,
     "metadata": {},
     "output_type": "execute_result"
    },
    {
     "data": {
      "image/png": "[encoded data removed]",
      "text/plain": [
       "<matplotlib.figure.Figure at 0x12657c7f0>"
      ]
     },
     "metadata": {},
     "output_type": "display_data"
    }
   ],
   "source": [
    "plt.imshow(sample_images[0], cmap='gray', vmin=0, vmax=255)"
   ]
  },
  {
   "cell_type": "code",
   "execution_count": 479,
   "metadata": {},
   "outputs": [],
   "source": [
    "n_batch_size = 32\n",
    "n_features = 32\n",
    "n_rnn_layers = 2\n",
    "n_hidden = 64\n",
    "n_classes = ord('z') - ord('a') + 10 + 1 + 1 + 1\n",
    "\n",
    "n_epochs = 100\n",
    "\n",
    "learning_rate = 0.001"
   ]
  },
  {
   "cell_type": "code",
   "execution_count": 480,
   "metadata": {},
   "outputs": [],
   "source": [
    "n_test_size = 0.3\n",
    "n_test_index = int(len(images) * n_test_size)\n",
    "\n",
    "train_images = images[:n_test_index]\n",
    "test_images = images[n_test_index:]\n",
    "\n",
    "train_labels = labels[:n_test_index]\n",
    "test_labels = labels[n_test_index:]"
   ]
  },
  {
   "cell_type": "code",
   "execution_count": 491,
   "metadata": {},
   "outputs": [],
   "source": [
    "graph = tf.Graph()\n",
    "\n",
    "with graph.as_default():\n",
    "    inputs = tf.placeholder(tf.float32, [None, None, n_features])\n",
    "    targets = tf.sparse_placeholder(tf.int32)\n",
    "    seq_len = tf.placeholder(tf.int32, [None])\n",
    "    \n",
    "    cells = []\n",
    "    for _ in range(n_rnn_layers):\n",
    "        cell = tf.contrib.rnn.LSTMCell(n_hidden)\n",
    "        cells.append(cell)\n",
    "        \n",
    "    stack = tf.contrib.rnn.MultiRNNCell(cells)\n",
    "\n",
    "    outputs, _ = tf.nn.dynamic_rnn(stack, inputs, seq_len, dtype=tf.float32)\n",
    "    \n",
    "    outputs = tf.reshape(outputs, [-1, n_hidden])\n",
    "    \n",
    "    W = tf.Variable(tf.truncated_normal([n_hidden,\n",
    "                                         n_classes],\n",
    "                                        stddev=0.1))\n",
    "    b = tf.Variable(tf.constant(0., shape=[n_classes]))\n",
    "    \n",
    "    logits = tf.matmul(outputs, W) + b\n",
    "    logits = tf.reshape(logits, [n_batch_size, -1, n_classes])\n",
    "    logits = tf.transpose(logits, (1, 0, 2))\n",
    "    \n",
    "    loss = tf.nn.ctc_loss(labels=targets, inputs=logits, sequence_length=seq_len)\n",
    "    cost = tf.reduce_mean(loss)\n",
    "\n",
    "    optimizer = tf.train.AdamOptimizer(learning_rate,\n",
    "                                           0.9).minimize(cost)\n",
    "    \n",
    "#     decoded, log_prob = tf.nn.ctc_greedy_decoder(logits, seq_len)\n",
    "    decoded, log_prob = tf.nn.ctc_beam_search_decoder(logits, seq_len, merge_repeated=False)\n",
    "    \n",
    "    ler = tf.reduce_mean(tf.edit_distance(tf.cast(decoded[0], tf.int32),\n",
    "                                          targets))"
   ]
  },
  {
   "cell_type": "code",
   "execution_count": 492,
   "metadata": {},
   "outputs": [
    {
     "name": "stdout",
     "output_type": "stream",
     "text": [
      "Epoch 0, train_cost: 1737.506, train_ler: 32.700, val_cost: 0.000, val_ler: 0.000\n",
      "Epoch 1, train_cost: 1969.367, train_ler: 32.833, val_cost: 0.000, val_ler: 0.000\n",
      "Epoch 2, train_cost: 1615.827, train_ler: 33.900, val_cost: 0.000, val_ler: 0.000\n",
      "Epoch 3, train_cost: 1611.220, train_ler: 32.900, val_cost: 0.000, val_ler: 0.000\n",
      "Epoch 4, train_cost: 1819.304, train_ler: 32.900, val_cost: 0.000, val_ler: 0.000\n",
      "Epoch 5, train_cost: 1690.739, train_ler: 33.000, val_cost: 0.000, val_ler: 0.000\n",
      "Epoch 6, train_cost: 1705.490, train_ler: 33.900, val_cost: 0.000, val_ler: 0.000\n",
      "Epoch 7, train_cost: 2143.520, train_ler: 32.917, val_cost: 0.000, val_ler: 0.000\n",
      "Epoch 8, train_cost: 1781.228, train_ler: 33.700, val_cost: 0.000, val_ler: 0.000\n",
      "Epoch 9, train_cost: 1768.645, train_ler: 32.900, val_cost: 0.000, val_ler: 0.000\n",
      "Epoch 10, train_cost: 1530.641, train_ler: 32.400, val_cost: 0.000, val_ler: 0.000\n",
      "Epoch 11, train_cost: 1520.222, train_ler: 32.000, val_cost: 0.000, val_ler: 0.000\n",
      "Epoch 12, train_cost: 1821.038, train_ler: 33.650, val_cost: 0.000, val_ler: 0.000\n",
      "Epoch 13, train_cost: 1356.595, train_ler: 32.000, val_cost: 0.000, val_ler: 0.000\n",
      "Epoch 14, train_cost: 1327.787, train_ler: 32.250, val_cost: 0.000, val_ler: 0.000\n",
      "Epoch 15, train_cost: 1512.645, train_ler: 32.000, val_cost: 0.000, val_ler: 0.000\n",
      "Epoch 16, train_cost: 1597.814, train_ler: 33.167, val_cost: 0.000, val_ler: 0.000\n",
      "Epoch 17, train_cost: 1444.451, train_ler: 32.000, val_cost: 0.000, val_ler: 0.000\n",
      "Epoch 18, train_cost: 1429.713, train_ler: 32.000, val_cost: 0.000, val_ler: 0.000\n",
      "Epoch 19, train_cost: 1227.378, train_ler: 32.333, val_cost: 0.000, val_ler: 0.000\n",
      "Epoch 20, train_cost: 1185.387, train_ler: 32.000, val_cost: 0.000, val_ler: 0.000\n",
      "Epoch 21, train_cost: 990.618, train_ler: 32.000, val_cost: 0.000, val_ler: 0.000\n",
      "Epoch 22, train_cost: 966.441, train_ler: 32.000, val_cost: 0.000, val_ler: 0.000\n",
      "Epoch 23, train_cost: 876.147, train_ler: 32.000, val_cost: 0.000, val_ler: 0.000\n",
      "Epoch 24, train_cost: 813.530, train_ler: 32.000, val_cost: 0.000, val_ler: 0.000\n",
      "Epoch 25, train_cost: 771.830, train_ler: 32.000, val_cost: 0.000, val_ler: 0.000\n",
      "Epoch 26, train_cost: 689.891, train_ler: 32.000, val_cost: 0.000, val_ler: 0.000\n",
      "Epoch 27, train_cost: 635.042, train_ler: 32.000, val_cost: 0.000, val_ler: 0.000\n",
      "Epoch 28, train_cost: 590.561, train_ler: 32.000, val_cost: 0.000, val_ler: 0.000\n",
      "Epoch 29, train_cost: 546.829, train_ler: 32.000, val_cost: 0.000, val_ler: 0.000\n",
      "Epoch 30, train_cost: 507.005, train_ler: 32.000, val_cost: 0.000, val_ler: 0.000\n",
      "Epoch 31, train_cost: 473.283, train_ler: 32.000, val_cost: 0.000, val_ler: 0.000\n",
      "Epoch 32, train_cost: 451.635, train_ler: 32.000, val_cost: 0.000, val_ler: 0.000\n",
      "Epoch 33, train_cost: 424.366, train_ler: 32.000, val_cost: 0.000, val_ler: 0.000\n",
      "Epoch 34, train_cost: 409.413, train_ler: 32.000, val_cost: 0.000, val_ler: 0.000\n",
      "Epoch 35, train_cost: 383.676, train_ler: 32.000, val_cost: 0.000, val_ler: 0.000\n",
      "Epoch 36, train_cost: 370.893, train_ler: 32.000, val_cost: 0.000, val_ler: 0.000\n",
      "Epoch 37, train_cost: 358.078, train_ler: 32.000, val_cost: 0.000, val_ler: 0.000\n",
      "Epoch 38, train_cost: 341.880, train_ler: 32.000, val_cost: 0.000, val_ler: 0.000\n",
      "Epoch 39, train_cost: 332.980, train_ler: 32.000, val_cost: 0.000, val_ler: 0.000\n",
      "Epoch 40, train_cost: 322.986, train_ler: 32.000, val_cost: 0.000, val_ler: 0.000\n",
      "Epoch 41, train_cost: 306.775, train_ler: 32.000, val_cost: 0.000, val_ler: 0.000\n",
      "Epoch 42, train_cost: 303.976, train_ler: 32.000, val_cost: 0.000, val_ler: 0.000\n",
      "Epoch 43, train_cost: 295.063, train_ler: 32.000, val_cost: 0.000, val_ler: 0.000\n",
      "Epoch 44, train_cost: 287.442, train_ler: 32.000, val_cost: 0.000, val_ler: 0.000\n",
      "Epoch 45, train_cost: 279.979, train_ler: 32.000, val_cost: 0.000, val_ler: 0.000\n",
      "Epoch 46, train_cost: 273.838, train_ler: 32.000, val_cost: 0.000, val_ler: 0.000\n",
      "Epoch 47, train_cost: 267.737, train_ler: 32.000, val_cost: 0.000, val_ler: 0.000\n",
      "Epoch 48, train_cost: 262.848, train_ler: 32.000, val_cost: 0.000, val_ler: 0.000\n",
      "Epoch 49, train_cost: 256.935, train_ler: 32.000, val_cost: 0.000, val_ler: 0.000\n"
     ]
    }
   ],
   "source": [
    "with tf.Session(graph=graph) as sess:\n",
    "    sess.run(tf.global_variables_initializer())\n",
    "    \n",
    "    for epoch in range(50):\n",
    "        train_cost = train_ler = 0\n",
    "        \n",
    "        indices, values, shape, sample_images, seq_length, x_max, y_max = create_sparse(n_batch_size, train_images, train_labels)\n",
    "        sample_images = add_padding_to_images(x_max, y_max, sample_images)\n",
    "#         sample_images = np.transpose(sample_images, (0, 2, 1))\n",
    "        train_targets = tf.SparseTensorValue(indices=indices, values=values, dense_shape=shape)\n",
    "            \n",
    "        feed = {\n",
    "            inputs: sample_images,\n",
    "            targets: train_targets,\n",
    "            seq_len: seq_length,\n",
    "        }\n",
    "        \n",
    "        batch_cost, _ = sess.run([cost, optimizer], feed_dict=feed)\n",
    "        train_cost += batch_cost * n_batch_size\n",
    "        train_ler += sess.run(ler, feed_dict=feed) * n_batch_size\n",
    "        \n",
    "        log = 'Epoch {}, train_cost: {:.3f}, train_ler: {:.3f}, val_cost: {:.3f}, val_ler: {:.3f}'\n",
    "        print(log.format(epoch, train_cost, train_ler, 0, 0))\n",
    "        \n",
    "    decoded_values = sess.run(decoded[0], feed_dict=feed)"
   ]
  },
  {
   "cell_type": "code",
   "execution_count": 493,
   "metadata": {},
   "outputs": [],
   "source": [
    "str_decoded = ''.join([chr(x) for x in np.asarray(decoded_values[1])])"
   ]
  },
  {
   "cell_type": "code",
   "execution_count": 494,
   "metadata": {},
   "outputs": [
    {
     "data": {
      "text/plain": [
       "'\\x17\\x17\\x17\\x17\\x17\\x17\\x17\\x17\\x17\\x17\\x17\\x17\\x17\\x17\\x17\\x17\\x17\\x17\\x17\\x17\\x17\\x17\\x17\\x17\\x17\\x17\\x17\\x17\\x17\\x17\\x17'"
      ]
     },
     "execution_count": 494,
     "metadata": {},
     "output_type": "execute_result"
    }
   ],
   "source": [
    "str_decoded"
   ]
  },
  {
   "cell_type": "code",
   "execution_count": 495,
   "metadata": {},
   "outputs": [
    {
     "data": {
      "text/plain": [
       "array([23, 23, 23, 23, 23, 23, 23, 23, 23, 23, 23, 23, 23, 23, 23, 23, 23,\n",
       "       23, 23, 23, 23, 23, 23, 23, 23, 23, 23, 23, 23, 23, 23])"
      ]
     },
     "execution_count": 495,
     "metadata": {},
     "output_type": "execute_result"
    }
   ],
   "source": [
    "decoded_values[1]"
   ]
  },
  {
   "cell_type": "code",
   "execution_count": 486,
   "metadata": {},
   "outputs": [
    {
     "data": {
      "text/plain": [
       "array([83, 53, 50, 51, 53, 53, 48, 49, 51, 53, 48, 52, 50, 49, 48, 48, 52,\n",
       "       54, 57, 48, 55, 49, 48, 52, 52, 48, 53, 48, 49, 48, 51, 56, 49, 49,\n",
       "       51, 48, 49, 56, 49, 48, 57, 53, 53, 49, 48, 52, 56, 53, 51, 49, 50,\n",
       "       57, 49, 57, 53, 48, 66, 49, 50, 50, 57, 53, 53, 52, 57, 49, 49, 48,\n",
       "       53, 52, 57, 52, 53, 56, 53, 48, 49, 48, 55, 57, 51, 49, 51, 48, 52,\n",
       "       53, 51, 49, 53, 53, 52, 54, 53, 49, 57, 48, 57, 49, 53, 52, 56, 53,\n",
       "       49, 51, 53, 45, 56, 49, 51, 52, 53, 48, 57, 48, 55, 48, 48, 48, 53,\n",
       "       51, 49, 57, 49, 52, 57, 48, 55, 51, 56, 48, 51, 57, 52, 53, 48, 48,\n",
       "       53, 54, 51, 49, 56, 48, 49, 53, 45, 49, 50, 57, 52, 57, 48, 55, 50,\n",
       "       53, 49, 48, 51, 48, 57, 48, 55, 52, 57, 49, 53, 48, 48, 57, 51, 49,\n",
       "       49, 74, 49, 48, 52, 53, 48, 57, 52, 53, 57, 51, 49, 49, 53, 53, 49,\n",
       "       53, 55, 48, 48, 52, 53, 57, 51, 52, 49, 49, 53, 53, 57, 48, 55, 54,\n",
       "       51, 49, 48, 48, 54, 48, 51, 53, 52, 55, 57, 52, 49, 52, 66, 49, 50,\n",
       "       50, 57, 53, 53, 48, 53, 51, 49, 53, 48, 49, 49, 49, 52, 53, 57, 53,\n",
       "       52, 51, 49, 53, 49, 49, 49, 53, 57, 48, 50, 49, 52, 57, 51, 39, 52,\n",
       "       49, 51, 53, 52, 51, 49, 49, 49, 53, 57, 51, 50, 48, 48, 48, 49, 50,\n",
       "       49, 53, 51, 48, 54, 49, 57, 52, 49, 48, 49, 49, 49, 51, 52, 53, 52,\n",
       "       50, 54, 49, 53, 52, 53, 48, 51, 57, 49, 49, 50, 49, 48, 48, 52, 54,\n",
       "       57, 48])"
      ]
     },
     "execution_count": 486,
     "metadata": {},
     "output_type": "execute_result"
    }
   ],
   "source": [
    "values"
   ]
  },
  {
   "cell_type": "code",
   "execution_count": null,
   "metadata": {},
   "outputs": [],
   "source": []
  }
 ],
 "metadata": {
  "kernelspec": {
   "display_name": "Python 3",
   "language": "python",
   "name": "python3"
  },
  "language_info": {
   "codemirror_mode": {
    "name": "ipython",
    "version": 3
   },
   "file_extension": ".py",
   "mimetype": "text/x-python",
   "name": "python",
   "nbconvert_exporter": "python",
   "pygments_lexer": "ipython3",
   "version": "3.6.3"
  }
 },
 "nbformat": 4,
 "nbformat_minor": 2
}
