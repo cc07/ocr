{
 "cells": [
  {
   "cell_type": "code",
   "execution_count": null,
   "metadata": {},
   "outputs": [],
   "source": [
    "%matplotlib inline\n",
    "\n",
    "import cv2\n",
    "import json\n",
    "import tensorflow as tf\n",
    "import numpy as np\n",
    "\n",
    "from os import listdir\n",
    "from os.path import isfile, join\n",
    "from matplotlib import pyplot as plt"
   ]
  },
  {
   "cell_type": "code",
   "execution_count": null,
   "metadata": {},
   "outputs": [],
   "source": [
    "labels = json.load(open('../data/label.json', 'r'))"
   ]
  },
  {
   "cell_type": "code",
   "execution_count": 100,
   "metadata": {},
   "outputs": [],
   "source": [
    "img_path = '../data/images'\n",
    "\n",
    "images = []\n",
    "# for f in listdir(img_path):\n",
    "#     if isfile(join(img_path, f)):\n",
    "for f in labels:\n",
    "    img_name = labels[str(f)]['label']\n",
    "    img = cv2.imread('{}/{}_{}.jpg'.format(img_path, f, img_name), cv2.IMREAD_GRAYSCALE)\n",
    "#         img = cv2.imread(join(img_path, f), cv2.IMREAD_GRAYSCALE)\n",
    "#         plt.imshow(img, cmap='gray', vmin=0, vmax=255)\n",
    "    images.append(img)"
   ]
  },
  {
   "cell_type": "code",
   "execution_count": 115,
   "metadata": {},
   "outputs": [],
   "source": [
    "def create_sparse(batch_size, images, labels, dtype=np.character):\n",
    "    indices = []\n",
    "    values = []\n",
    "    \n",
    "    sample_index = np.random.choice(len(images), size=batch_size)\n",
    "    sample_images = []\n",
    "    \n",
    "    x_max = 0\n",
    "    y_max = 0\n",
    "\n",
    "    for key, index in zip(sample_index, range(batch_size)):\n",
    "        sample = labels[str(key)]\n",
    "        length = sample['length']\n",
    "        label = sample['label']\n",
    "        \n",
    "        img = images[key]\n",
    "        x_max = max(x_max, img.shape[0])\n",
    "        y_max = max(y_max, img.shape[1])\n",
    "\n",
    "        sample_images.append(img)\n",
    "\n",
    "        for number, number_index in zip(label, range(length)):\n",
    "            indices.append((index, number_index))\n",
    "            values.append(number)\n",
    "\n",
    "    indices = np.asarray(indices, dtype=np.int64)\n",
    "    values = np.asarray(values, dtype=dtype)\n",
    "    shape = np.asarray([batch_size, np.asarray(indices).max(0)[1] + 1], dtype=np.int64)\n",
    "\n",
    "    return indices, values, shape, sample_images, x_max, y_max"
   ]
  },
  {
   "cell_type": "code",
   "execution_count": 137,
   "metadata": {},
   "outputs": [],
   "source": [
    "indices, values, shape, sample_images, x_max, y_max = create_sparse(32, images, labels)"
   ]
  },
  {
   "cell_type": "code",
   "execution_count": 146,
   "metadata": {},
   "outputs": [],
   "source": [
    "def add_padding_to_images(x_max, y_max, images):\n",
    "\n",
    "    output = []\n",
    "    for img in images:\n",
    "        left_pad = int((x_max - img.shape[0]) / 2)\n",
    "        right_pad = x_max - img.shape[0] - int((x_max - img.shape[0]) / 2)\n",
    "        top_pad = int((y_max - img.shape[1]) / 2)\n",
    "        bottom_pad = y_max - img.shape[1] - int((y_max - img.shape[1]) / 2)\n",
    "\n",
    "        img = np.pad(img, \n",
    "                     pad_width=((left_pad, right_pad), \n",
    "                                (top_pad, bottom_pad)), \n",
    "                     mode='constant', \n",
    "                     constant_values=0)\n",
    "        \n",
    "        output.append(img)\n",
    "        \n",
    "    return np.array(output)"
   ]
  },
  {
   "cell_type": "code",
   "execution_count": 147,
   "metadata": {},
   "outputs": [],
   "source": [
    "sample_images = add_padding_to_images(x_max, y_max, sample_images)"
   ]
  },
  {
   "cell_type": "code",
   "execution_count": 151,
   "metadata": {},
   "outputs": [
    {
     "data": {
      "text/plain": [
       "<matplotlib.image.AxesImage at 0x12395b710>"
      ]
     },
     "execution_count": 151,
     "metadata": {},
     "output_type": "execute_result"
    },
    {
     "data": {
      "image/png": "[encoded data removed]",
      "text/plain": [
       "<matplotlib.figure.Figure at 0x122c86b00>"
      ]
     },
     "metadata": {},
     "output_type": "display_data"
    }
   ],
   "source": [
    "plt.imshow(sample_images[0], cmap='gray', vmin=0, vmax=255)"
   ]
  },
  {
   "cell_type": "code",
   "execution_count": 106,
   "metadata": {},
   "outputs": [
    {
     "data": {
      "text/plain": [
       "array([b'3', b'1', b'5', b'5', b'9'],\n",
       "      dtype='|S1')"
      ]
     },
     "execution_count": 106,
     "metadata": {},
     "output_type": "execute_result"
    }
   ],
   "source": [
    "values[:5]"
   ]
  },
  {
   "cell_type": "code",
   "execution_count": null,
   "metadata": {},
   "outputs": [],
   "source": [
    "n_features = 32\n",
    "n_rnn_layers = 1\n",
    "n_rnn_units = 128"
   ]
  },
  {
   "cell_type": "code",
   "execution_count": null,
   "metadata": {},
   "outputs": [],
   "source": [
    "graph = tf.Graph()\n",
    "\n",
    "with graph.as_default():\n",
    "    inputs = tf.placeholder(tf.float32, [None, None, n_features])\n",
    "    targets = tf.sparse_placeholder(tf.int32)\n",
    "    seq_len = tf.placeholder(tf.int32, [None])\n",
    "    \n",
    "    cells = []\n",
    "    for _ in range(n_rnn_layers):\n",
    "        cell = tf.contrib.rnn.LSTMCell(n_rnn_units)\n",
    "        cells.append(cell)\n",
    "    stack = tf.contrib.rnn.MultiRNNCell(cells)\n",
    "\n",
    "    outputs, _ = tf.nn.dynamic_rnn(stack, inputs, seq_len, dtype=tf.float32)\n",
    "    "
   ]
  },
  {
   "cell_type": "code",
   "execution_count": null,
   "metadata": {},
   "outputs": [],
   "source": [
    "with tf.Session() as sess:\n",
    "    sess.run(tf.global_variables_initializer())"
   ]
  }
 ],
 "metadata": {
  "kernelspec": {
   "display_name": "Python 3",
   "language": "python",
   "name": "python3"
  },
  "language_info": {
   "codemirror_mode": {
    "name": "ipython",
    "version": 3
   },
   "file_extension": ".py",
   "mimetype": "text/x-python",
   "name": "python",
   "nbconvert_exporter": "python",
   "pygments_lexer": "ipython3",
   "version": "3.6.3"
  }
 },
 "nbformat": 4,
 "nbformat_minor": 2
}
